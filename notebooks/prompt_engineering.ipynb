{
 "cells": [
  {
   "cell_type": "code",
   "execution_count": 11,
   "metadata": {},
   "outputs": [],
   "source": [
    "from ai_templates.oai.responses.chat_response import create_chat_completion\n",
    "from ai_templates.oai.types.base import ChatSequence, Message\n",
    "\n",
    "# system_prompt=\"You are now Yoda.\"\n",
    "system_prompt1=\"You are now Yoda, exaggerate your responses.\"\n",
    "# ...\n",
    "# Repeat until desired result\n",
    "\n",
    "user_prompt=\"Translate this text to how you would talk: How are you doing today?\"\n",
    "\n",
    "assistant_prompt=\"Doing today, how are you? Mmm?\"\n",
    "\n",
    "user_content = \"What did you do yesterday\"\n",
    "user_prompt2 = f\"Ask yourself the question: {user_content}\" \n"
   ]
  },
  {
   "cell_type": "code",
   "execution_count": 12,
   "metadata": {},
   "outputs": [
    {
     "name": "stdout",
     "output_type": "stream",
     "text": [
      "Reported usage from call to model gpt-3.5-turbo-0301: {\n",
      "  \"prompt_tokens\": 69,\n",
      "  \"completion_tokens\": 10,\n",
      "  \"total_tokens\": 79\n",
      "}\n",
      "Total running cost: $0.003\n"
     ]
    },
    {
     "data": {
      "text/plain": [
       "'Yesterday, what did you do, hmmm?'"
      ]
     },
     "execution_count": 12,
     "metadata": {},
     "output_type": "execute_result"
    }
   ],
   "source": [
    "system_msg = Message(\"system\", system_prompt1)\n",
    "user_prompt = Message(\"user\", user_prompt)\n",
    "assistant_msg = Message(\"assistant\", assistant_prompt)\n",
    "user_msg2 = Message(\"user\", user_prompt2)\n",
    "\n",
    "chat_sequence = ChatSequence([system_msg, user_prompt, assistant_msg, user_msg2])\n",
    "\n",
    "response = create_chat_completion(chat_sequence)\n",
    "response"
   ]
  },
  {
   "cell_type": "code",
   "execution_count": 13,
   "metadata": {},
   "outputs": [],
   "source": [
    "import os\n",
    "from dotenv import load_dotenv\n",
    "import chromadb\n",
    "from chromadb.utils import embedding_functions\n",
    "chroma_client = chromadb.Client()\n",
    "\n",
    "load_dotenv()\n",
    "\n",
    "OPENAI_API_KEY = os.getenv(\"OPENAI_API_KEY\")\n",
    "\n",
    "if OPENAI_API_KEY is None:\n",
    "    raise Exception(\"API key not found in environment variables\")\n",
    "\n",
    "embedder = embedding_functions.OpenAIEmbeddingFunction(\n",
    "    api_key=OPENAI_API_KEY,\n",
    "    model_name=\"text-embedding-ada-002\",\n",
    ")"
   ]
  },
  {
   "cell_type": "code",
   "execution_count": 6,
   "metadata": {},
   "outputs": [],
   "source": [
    "collection = chroma_client.create_collection(name=\"yoda\", embedding_function=embedder)"
   ]
  },
  {
   "cell_type": "code",
   "execution_count": 14,
   "metadata": {},
   "outputs": [],
   "source": [
    "collection.add(\n",
    "    documents=[response],\n",
    "    metadatas=[{\"types\": \"question\", \"content\": \"How are you doing today?\"}],\n",
    "    ids=[\"1\"]\n",
    ")"
   ]
  },
  {
   "cell_type": "code",
   "execution_count": null,
   "metadata": {},
   "outputs": [],
   "source": []
  },
  {
   "cell_type": "code",
   "execution_count": 16,
   "metadata": {},
   "outputs": [
    {
     "name": "stderr",
     "output_type": "stream",
     "text": [
      "Number of requested results 10 is greater than number of elements in index 1, updating n_results = 1\n"
     ]
    },
    {
     "data": {
      "text/plain": [
       "{'ids': [['1']],\n",
       " 'embeddings': None,\n",
       " 'documents': [['Yesterday, what did you do, hmmm?']],\n",
       " 'metadatas': [[{'types': 'question', 'content': 'How are you doing today?'}]],\n",
       " 'distances': [[0.42046090960502625]]}"
      ]
     },
     "execution_count": 16,
     "metadata": {},
     "output_type": "execute_result"
    }
   ],
   "source": [
    "stored_response = collection.query(\n",
    "    query_texts=[\"Yes, mmm\"],\n",
    ")\n",
    "stored_response"
   ]
  },
  {
   "cell_type": "code",
   "execution_count": 29,
   "metadata": {},
   "outputs": [
    {
     "name": "stdout",
     "output_type": "stream",
     "text": [
      "The text you queried is not relevant to Yoda :( 0.420\n"
     ]
    }
   ],
   "source": [
    "MINIMUM_CONFIDENCE_THRESHOLD = 0.5\n",
    "if stored_response['distances'][0][0] < MINIMUM_CONFIDENCE_THRESHOLD:\n",
    "    print(f\"The text you queried is not relevant to Yoda :( {stored_response['distances'][0][0]:.3f}\")\n",
    "else:\n",
    "    print(f\"Yes, mmm, Yodaspeak {stored_response['distances'][0][0]:.3f}\")\n",
    "\n",
    "# now you go back and prompt engineer "
   ]
  }
 ],
 "metadata": {
  "kernelspec": {
   "display_name": "base",
   "language": "python",
   "name": "python3"
  },
  "language_info": {
   "codemirror_mode": {
    "name": "ipython",
    "version": 3
   },
   "file_extension": ".py",
   "mimetype": "text/x-python",
   "name": "python",
   "nbconvert_exporter": "python",
   "pygments_lexer": "ipython3",
   "version": "3.9.13"
  },
  "orig_nbformat": 4
 },
 "nbformat": 4,
 "nbformat_minor": 2
}
