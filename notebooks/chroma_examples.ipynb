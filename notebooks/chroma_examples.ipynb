{
 "cells": [
  {
   "cell_type": "code",
   "execution_count": 1,
   "metadata": {},
   "outputs": [],
   "source": [
    "import os\n",
    "from dotenv import load_dotenv\n",
    "import chromadb\n",
    "chroma_client = chromadb.Client()\n",
    "\n",
    "load_dotenv()\n",
    "\n",
    "OPENAI_API_KEY = os.getenv(\"OPENAI_API_KEY\")\n",
    "\n",
    "if OPENAI_API_KEY is None:\n",
    "    raise Exception(\"API key not found in environment variables\")"
   ]
  },
  {
   "cell_type": "code",
   "execution_count": 2,
   "metadata": {},
   "outputs": [],
   "source": [
    "similar1=\"The food was delicious and the waiter...\"\n",
    "similar2=\"I liked the food but the...\"\n",
    "different=\"Last night I read a book\"\n",
    "between=\"I liked the book I read\""
   ]
  },
  {
   "cell_type": "code",
   "execution_count": 3,
   "metadata": {},
   "outputs": [
    {
     "name": "stdout",
     "output_type": "stream",
     "text": [
      " [-0.003936287481337786,-0.014514213427901268...-0.015028230845928192] 1536\n"
     ]
    }
   ],
   "source": [
    "from chromadb.utils import embedding_functions\n",
    "\n",
    "embedder = embedding_functions.OpenAIEmbeddingFunction(\n",
    "    api_key=OPENAI_API_KEY,\n",
    "    model_name=\"text-embedding-ada-002\",\n",
    ")\n",
    "\n",
    "emb_sim1 = embedder(similar1)[0]\n",
    "emb_sim2= embedder(similar2)[0]\n",
    "\n",
    "print(f\" [{emb_sim1[0]},{emb_sim1[1]}...{emb_sim1[-1]}] {len(emb_sim1)}\")"
   ]
  },
  {
   "cell_type": "code",
   "execution_count": 4,
   "metadata": {},
   "outputs": [],
   "source": [
    "collection = chroma_client.get_or_create_collection(name=\"test\", embedding_function=embedder)"
   ]
  },
  {
   "cell_type": "code",
   "execution_count": 5,
   "metadata": {},
   "outputs": [],
   "source": [
    "collection.add( # embedding external\n",
    "    embeddings=[emb_sim1],\n",
    "    documents=[similar1],\n",
    "    metadatas=[{\"sentiment\": \"positive\", \"type\": \"similar\", \"topic\": \"food\"}],\n",
    "    ids=[\"id1\"]\n",
    ") \n",
    "collection.add( # store documents elsewhere\n",
    "    embeddings=[emb_sim2],\n",
    "    metadatas=[{\"sentiment\": \"mixed\", \"type\": \"similar\",\"topic\": \"food\"}],\n",
    "    ids=[\"id2\"]\n",
    ") \n",
    "collection.add( # embedding by defined function\n",
    "    documents=[different, between],\n",
    "    metadatas=[{\"sentiment\": \"neutral\", \"type\": \"different\",\"topic\": \"read\"}, {\"sentiment\": \"positive\", \"type\": \"between\",\"topic\": \"read\"}],\n",
    "    ids=[\"id3\",\"id4\"]\n",
    ") "
   ]
  },
  {
   "cell_type": "code",
   "execution_count": 6,
   "metadata": {},
   "outputs": [
    {
     "name": "stdout",
     "output_type": "stream",
     "text": [
      "4\n"
     ]
    }
   ],
   "source": [
    "# print(collection.peek()) returns a list of the first 10 items in the collection\n",
    "print(collection.count()) # returns the number of items in the collection\n",
    "# collection.modify(name=\"new_name\") Rename the collection"
   ]
  },
  {
   "cell_type": "code",
   "execution_count": 7,
   "metadata": {},
   "outputs": [],
   "source": [
    "positive=\"I really like going there the other day\"\n",
    "negative=\"Man it just wasn't doing it for me it all\""
   ]
  },
  {
   "cell_type": "code",
   "execution_count": 8,
   "metadata": {},
   "outputs": [
    {
     "name": "stderr",
     "output_type": "stream",
     "text": [
      "Number of requested results 10 is greater than number of elements in index 4, updating n_results = 4\n"
     ]
    },
    {
     "data": {
      "text/plain": [
       "{'ids': [['id4', 'id1']],\n",
       " 'embeddings': None,\n",
       " 'documents': [['I liked the book I read',\n",
       "   'The food was delicious and the waiter...']],\n",
       " 'metadatas': [[{'sentiment': 'positive', 'type': 'between', 'topic': 'read'},\n",
       "   {'sentiment': 'positive', 'type': 'similar', 'topic': 'food'}]],\n",
       " 'distances': [[0.34555989503860474, 0.5193383693695068]]}"
      ]
     },
     "execution_count": 8,
     "metadata": {},
     "output_type": "execute_result"
    }
   ],
   "source": [
    "collection.query(\n",
    "    query_texts=[positive],\n",
    "    where={\"sentiment\": \"positive\"},\n",
    "    n_results=10,\n",
    ")"
   ]
  },
  {
   "cell_type": "code",
   "execution_count": 9,
   "metadata": {},
   "outputs": [
    {
     "data": {
      "text/plain": [
       "{'ids': ['id1'],\n",
       " 'embeddings': None,\n",
       " 'documents': ['The food was delicious and the waiter...'],\n",
       " 'metadatas': [{'sentiment': 'positive', 'type': 'similar', 'topic': 'food'}]}"
      ]
     },
     "execution_count": 9,
     "metadata": {},
     "output_type": "execute_result"
    }
   ],
   "source": [
    "collection.get(\n",
    "    ids=[\"id1\", \"id2\", \"id3\"],\n",
    "    where={\"sentiment\": \"positive\"}\n",
    ")"
   ]
  },
  {
   "cell_type": "code",
   "execution_count": 10,
   "metadata": {},
   "outputs": [
    {
     "name": "stderr",
     "output_type": "stream",
     "text": [
      "Number of requested results 10 is greater than number of elements in index 4, updating n_results = 4\n"
     ]
    },
    {
     "data": {
      "text/plain": [
       "{'ids': [['id4', 'id3']],\n",
       " 'embeddings': None,\n",
       " 'documents': [['I liked the book I read', 'Last night I read a book']],\n",
       " 'metadatas': [[{'sentiment': 'positive', 'type': 'between', 'topic': 'read'},\n",
       "   {'sentiment': 'neutral', 'type': 'different', 'topic': 'read'}]],\n",
       " 'distances': [[0.49588629603385925, 0.5017977356910706]]}"
      ]
     },
     "execution_count": 10,
     "metadata": {},
     "output_type": "execute_result"
    }
   ],
   "source": [
    "collection.query(\n",
    "    query_embeddings=[embedder(negative)[0]],\n",
    "    where_document={\"$contains\":\"I\"}\n",
    ")"
   ]
  },
  {
   "cell_type": "code",
   "execution_count": 11,
   "metadata": {},
   "outputs": [
    {
     "data": {
      "text/plain": [
       "['id2', 'id3', 'id4', 'id1', 'id5']"
      ]
     },
     "execution_count": 11,
     "metadata": {},
     "output_type": "execute_result"
    }
   ],
   "source": [
    "collection.upsert( # updating or adding based on id\n",
    "    ids=[\"id1\", \"id5\"],\n",
    "    metadatas=[{\"sentiment\": \"negative\", \"type\": \"similar\", \"topic\": \"food\"}, {\"sentiment\": \"negative\", \"type\": \"different\", \"topic\": \"sky\"}],\n",
    "    documents=[\"Man that food was awful\", \"The sky is quite blue today isn't it\"],\n",
    ")\n",
    "collection.peek()['ids']"
   ]
  },
  {
   "cell_type": "code",
   "execution_count": 12,
   "metadata": {},
   "outputs": [
    {
     "data": {
      "text/plain": [
       "['id2', 'id3', 'id1', 'id5']"
      ]
     },
     "execution_count": 12,
     "metadata": {},
     "output_type": "execute_result"
    }
   ],
   "source": [
    "collection.delete(\n",
    "    ids=[\"id1\", \"id2\", \"id3\", \"id4\"],\n",
    "    where={\"sentiment\": \"positive\"}\n",
    ")\n",
    "collection.peek()['ids']"
   ]
  },
  {
   "cell_type": "code",
   "execution_count": 13,
   "metadata": {},
   "outputs": [],
   "source": [
    "chroma_client.delete_collection(name=\"test\") # Delete a collection and all associated embeddings, documents, and metadata. ⚠️ This is destructive and not reversible"
   ]
  }
 ],
 "metadata": {
  "kernelspec": {
   "display_name": "base",
   "language": "python",
   "name": "python3"
  },
  "language_info": {
   "codemirror_mode": {
    "name": "ipython",
    "version": 3
   },
   "file_extension": ".py",
   "mimetype": "text/x-python",
   "name": "python",
   "nbconvert_exporter": "python",
   "pygments_lexer": "ipython3",
   "version": "3.9.13"
  },
  "orig_nbformat": 4
 },
 "nbformat": 4,
 "nbformat_minor": 2
}
