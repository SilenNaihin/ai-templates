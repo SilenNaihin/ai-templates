{
  "cells": [
    {
      "cell_type": "code",
      "execution_count": 1,
      "metadata": {},
      "outputs": [
        {
          "name": "stdout",
          "output_type": "stream",
          "text": [
            "Total running cost: $0.000\n"
          ]
        },
        {
          "data": {
            "text/plain": [
              "\"I'm sorry, but as an AI language model, I don't have real-time data or the ability to browse the internet. Therefore, I cannot provide you with the current price of a stock. However, you can easily find the price of a stock by using financial websites, stock market apps, or by contacting your broker.\""
            ]
          },
          "execution_count": 1,
          "metadata": {},
          "output_type": "execute_result"
        }
      ],
      "source": [
        "from aitemplates import create_chat_completion, Message, ChatSequence\n",
        "\n",
        "message1 = Message('user', 'Can you tell me the price of a stock?')\n",
        "sequence1 = ChatSequence([message1])\n",
        "create_chat_completion(sequence1)"
      ]
    },
    {
      "cell_type": "code",
      "execution_count": 2,
      "metadata": {},
      "outputs": [
        {
          "name": "stdout",
          "output_type": "stream",
          "text": [
            "Total running cost: $0.000\n",
            " [-0.008309083990752697,-0.008986072614789009...-0.004850691184401512] 1536\n"
          ]
        }
      ],
      "source": [
        "from aitemplates import get_embedding\n",
        "\n",
        "embedding = get_embedding('Can you tell me the price of a stock?')\n",
        "\n",
        "print(f\" [{embedding[0]},{embedding[1]}...{embedding[-1]}] {len(embedding)}\")"
      ]
    },
    {
      "cell_type": "code",
      "execution_count": 3,
      "metadata": {},
      "outputs": [
        {
          "name": "stderr",
          "output_type": "stream",
          "text": [
            "  0%|          | 0/2 [00:00<?, ?it/s]"
          ]
        },
        {
          "name": "stderr",
          "output_type": "stream",
          "text": [
            "100%|██████████| 2/2 [00:05<00:00,  2.51s/it]"
          ]
        },
        {
          "name": "stdout",
          "output_type": "stream",
          "text": [
            "Total running cost: $0.001\n"
          ]
        },
        {
          "name": "stderr",
          "output_type": "stream",
          "text": [
            "\n"
          ]
        }
      ],
      "source": [
        "from aitemplates import async_create_chat_completion\n",
        "from aitemplates import ChatConversation\n",
        "\n",
        "\n",
        "message2 = Message('user', 'Can you tell me how much stock I can afford to buy with my budget?')\n",
        "sequence2 = ChatSequence([message2])\n",
        "chat=ChatConversation([sequence1, sequence2])\n",
        "async_generate = await async_create_chat_completion(chat, keep_order=True)"
      ]
    },
    {
      "cell_type": "code",
      "execution_count": 4,
      "metadata": {},
      "outputs": [
        {
          "name": "stdout",
          "output_type": "stream",
          "text": [
            "Prompt: Can you tell me the price of a stock? \n",
            "\n",
            "Response: I'm sorry, but as an AI language model, I don't have real-time data or the ability to browse the internet. Therefore, I cannot provide you with the current price of a stock. However, you can easily find the price of a stock by using financial websites, stock market apps, or by contacting your broker. \n",
            "\n",
            "\n",
            "Prompt: Can you tell me how much stock I can afford to buy with my budget? \n",
            "\n",
            "Response: To determine how much stock you can afford to buy with your budget, you need to consider a few factors:\n",
            "\n",
            "1. Budget: Determine the total amount of money you have available to invest in stocks.\n",
            "\n",
            "2. Stock Price: Research the current price of the stock you are interested in purchasing. This information is typically available on financial websites or through your brokerage account.\n",
            "\n",
            "3. Transaction Costs: Consider any transaction costs associated with buying stocks, such as brokerage fees or commissions. These costs can vary depending on your broker.\n",
            "\n",
            "Once you have these details, you can calculate the number of shares you can afford to buy using the following formula:\n",
            "\n",
            "Number of Shares = (Budget - Transaction Costs) / Stock Price\n",
            "\n",
            "For example, if you have a budget of $10,000, the stock you want to buy is priced at $100 per share, and the transaction costs are $10, your calculation would be:\n",
            "\n",
            "Number of Shares = ($10,000 - $10) / $100 = 99.9 shares\n",
            "\n",
            "In this case, you could afford to buy approximately 99 shares of the stock.\n",
            "\n",
            "Remember to consider other factors like diversification, risk tolerance, and investment goals when deciding how much stock to buy. It's also recommended to consult with a financial advisor or do thorough research before making any investment decisions. \n",
            "\n",
            "\n"
          ]
        }
      ],
      "source": [
        "async_generate.display_conversation()"
      ]
    },
    {
      "cell_type": "code",
      "execution_count": 5,
      "metadata": {},
      "outputs": [
        {
          "name": "stderr",
          "output_type": "stream",
          "text": [
            " 50%|█████     | 1/2 [00:01<00:01,  1.75s/it]"
          ]
        },
        {
          "name": "stdout",
          "output_type": "stream",
          "text": [
            "Total running cost: $0.001\n",
            "I'm sorry, but as an AI language model, I don't have real-time data or the ability to browse the internet. Therefore, I cannot provide you with the current price of a stock. However, you can easily find the price of a stock by using financial websites, stock market apps, or by contacting your broker.\n",
            "\n"
          ]
        },
        {
          "name": "stderr",
          "output_type": "stream",
          "text": [
            "100%|██████████| 2/2 [00:05<00:00,  2.59s/it]"
          ]
        },
        {
          "name": "stdout",
          "output_type": "stream",
          "text": [
            "Total running cost: $0.002\n",
            "To determine how much stock you can afford to buy with your budget, you need to consider a few factors:\n",
            "\n",
            "1. Budget: Determine the total amount of money you have available to invest in stocks.\n",
            "\n",
            "2. Stock Price: Research the current price of the stock you are interested in purchasing. This information is typically available on financial websites or through your brokerage account.\n",
            "\n",
            "3. Transaction Costs: Consider any transaction costs associated with buying stocks, such as brokerage fees or commissions. These costs can vary depending on your broker.\n",
            "\n",
            "Once you have these details, you can calculate the number of shares you can afford to buy using the following formula:\n",
            "\n",
            "Number of Shares = (Budget - Transaction Costs) / Stock Price\n",
            "\n",
            "For example, if you have a budget of $10,000, the stock you want to buy is priced at $100 per share, and the transaction costs are $10, your calculation would be:\n",
            "\n",
            "Number of Shares = ($10,000 - $10) / $100 = 99.9 shares\n",
            "\n",
            "In this case, you could afford to buy approximately 99 shares of the stock.\n",
            "\n",
            "Remember to consider other factors like diversification, risk tolerance, and investment goals when deciding how much stock to buy. It's also recommended to consult with a financial advisor or do thorough research before making any investment decisions.\n",
            "\n"
          ]
        },
        {
          "name": "stderr",
          "output_type": "stream",
          "text": [
            "\n"
          ]
        }
      ],
      "source": [
        "from aitemplates import async_create_chat_completion\n",
        "\n",
        "\n",
        "chat2 = ChatConversation([sequence1, sequence2])\n",
        "async_generate = await async_create_chat_completion(chat, print_every=True)"
      ]
    },
    {
      "cell_type": "code",
      "execution_count": 6,
      "metadata": {},
      "outputs": [],
      "source": [
        "from aitemplates import FunctionDef\n",
        "\n",
        "# First, let's define our functions using FunctionDef dataclass\n",
        "stock_price = FunctionDef(\n",
        "    name=\"get_company_stock_price\",\n",
        "    description=\"Use this function to get the price of a stock.\",\n",
        "    parameters={\n",
        "        \"company\": FunctionDef.ParameterSpec(\n",
        "            name=\"company\",\n",
        "            type=\"string\",\n",
        "            description=\"The name of the company\",\n",
        "            required=True\n",
        "        )\n",
        "    }\n",
        ")\n",
        "\n",
        "shares_calculation = FunctionDef(\n",
        "    name=\"get_shares_calculation\",\n",
        "    description=\"Use this function to calculate how many shares you can buy with a certain budget, given a stock and a price of the stock\",\n",
        "    parameters={\n",
        "        \"company\": FunctionDef.ParameterSpec(\n",
        "            name=\"company\",\n",
        "            type=\"string\",\n",
        "            description=\"The name of the company\",\n",
        "            required=True\n",
        "        ),\n",
        "        \"price\": FunctionDef.ParameterSpec(\n",
        "            name=\"price\",\n",
        "            type=\"integer\",\n",
        "            description=\"The price of the stock\"\n",
        "        ),\n",
        "        \"budget\": FunctionDef.ParameterSpec(\n",
        "            name=\"budget\",\n",
        "            type=\"integer\",\n",
        "            description=\"What your budget for stock purchases is\",\n",
        "            required=True\n",
        "        )\n",
        "    }\n",
        ")"
      ]
    },
    {
      "cell_type": "code",
      "execution_count": 7,
      "metadata": {},
      "outputs": [],
      "source": [
        "from typing import Optional\n",
        "\n",
        "\n",
        "# next, we need to define our functions so that they can be retrieved once a definition matches\n",
        "def get_company_stock_price(company: str) -> float:\n",
        "    \"\"\"Get the stock price of a specified company.\"\"\"\n",
        "\n",
        "    print(company)\n",
        "    # implement logic here to call the api \n",
        "    \n",
        "    return 321\n",
        "\n",
        "def get_shares_calculation(company: str, budget: int, price: Optional[int] = None) -> float:\n",
        "    \"\"\"Calculate how many shares I can buy for a given stock\"\"\"\n",
        "    \n",
        "    current_price = price\n",
        "    \n",
        "    if current_price is None:\n",
        "        # Get the current stock price of the company\n",
        "        current_price = get_company_stock_price(company)\n",
        "\n",
        "    # Calculate the number of shares that can be bought with the budget\n",
        "    return budget / current_price"
      ]
    },
    {
      "cell_type": "code",
      "execution_count": 8,
      "metadata": {},
      "outputs": [
        {
          "name": "stdout",
          "output_type": "stream",
          "text": [
            "Total running cost: $0.002\n"
          ]
        },
        {
          "data": {
            "text/plain": [
              "<OpenAIObject chat.completion id=chatcmpl-7ZZcFQx6MeZk59Sp14d4qy3IjigPW at 0x1611d6f3770> JSON: {\n",
              "  \"choices\": [\n",
              "    {\n",
              "      \"finish_reason\": \"stop\",\n",
              "      \"index\": 0,\n",
              "      \"message\": {\n",
              "        \"content\": null,\n",
              "        \"function_call\": {\n",
              "          \"arguments\": \"{\\n  \\\"company\\\": \\\"Apple\\\"\\n}\",\n",
              "          \"name\": \"get_company_stock_price\"\n",
              "        },\n",
              "        \"role\": \"assistant\"\n",
              "      }\n",
              "    }\n",
              "  ],\n",
              "  \"created\": 1688712743,\n",
              "  \"id\": \"chatcmpl-7ZZcFQx6MeZk59Sp14d4qy3IjigPW\",\n",
              "  \"model\": \"gpt-3.5-turbo-0613\",\n",
              "  \"object\": \"chat.completion\",\n",
              "  \"usage\": {\n",
              "    \"completion_tokens\": 9,\n",
              "    \"prompt_tokens\": 77,\n",
              "    \"total_tokens\": 86\n",
              "  }\n",
              "}"
            ]
          },
          "execution_count": 8,
          "metadata": {},
          "output_type": "execute_result"
        }
      ],
      "source": [
        "from aitemplates import Functions, FunctionPair\n",
        "\n",
        "# match the description to the function\n",
        "function_pair1 = FunctionPair(stock_price, get_company_stock_price)\n",
        "\n",
        "# next, let's add them to the Functions dataclass for easy access\n",
        "functions_available = Functions([function_pair1])\n",
        "\n",
        "sequence1.function_pairs.add_function_pairs(functions_available)\n",
        "\n",
        "# if you pass in a function_call, it will call the function with assumptions\n",
        "create_chat_completion(sequence1, function_call={\"name\": \"get_company_stock_price\"}, send_object=True)"
      ]
    },
    {
      "cell_type": "code",
      "execution_count": 9,
      "metadata": {},
      "outputs": [
        {
          "name": "stdout",
          "output_type": "stream",
          "text": [
            "Total running cost: $0.002\n"
          ]
        }
      ],
      "source": [
        "from aitemplates import ResponseDict\n",
        "\n",
        "# otherwise if the request matches one of the functions, it will ask you for clarification if it needs\n",
        "response = create_chat_completion(sequence1, send_object=True)\n",
        "\n",
        "# if function was called this is (ResponseDict, function_response), else it just returns a ResponseDict\n",
        "response_dict = ResponseDict.convert_to_response_dict(response)"
      ]
    },
    {
      "cell_type": "code",
      "execution_count": 10,
      "metadata": {},
      "outputs": [
        {
          "name": "stdout",
          "output_type": "stream",
          "text": [
            "Gamestop\n",
            "Total running cost: $0.002\n"
          ]
        },
        {
          "data": {
            "text/plain": [
              "(ResponseDict(index=0, message=Message(role='assistant', content=None, function_call=<OpenAIObject at 0x1611d675450> JSON: {\n",
              "   \"arguments\": \"{\\n  \\\"company\\\": \\\"Gamestop\\\"\\n}\",\n",
              "   \"name\": \"get_company_stock_price\"\n",
              " }), finish_reason='function_call', model='gpt-3.5-turbo-0613', created=1688712745),\n",
              " 321)"
            ]
          },
          "execution_count": 10,
          "metadata": {},
          "output_type": "execute_result"
        }
      ],
      "source": [
        "# lets respond to the message above with the answer\n",
        "llm_response = ChatSequence([response_dict.message])\n",
        "\n",
        "chat_response = ChatSequence([Message('user', 'The Gamestop stock please')])\n",
        "\n",
        "# you can see that we are passing the llm_response concatenated with our first and second queries\n",
        "# previously we didn't pass in the functions globally, if you want certain functions to only apply to certain prompts add the function_pairs to those prompts\n",
        "response2 = create_chat_completion(sequence1 + llm_response + chat_response, functions=functions_available, send_object=True, auto_call_func=True)\n",
        "response2 = ResponseDict.convert_to_response_dict(response2)\n",
        "response2 "
      ]
    },
    {
      "cell_type": "code",
      "execution_count": 11,
      "metadata": {},
      "outputs": [
        {
          "name": "stdout",
          "output_type": "stream",
          "text": [
            "Total running cost: $0.002\n"
          ]
        },
        {
          "data": {
            "text/plain": [
              "'Sure, I can help you with that. Could you please provide me with the name of the company and your budget for stock purchases?'"
            ]
          },
          "execution_count": 11,
          "metadata": {},
          "output_type": "execute_result"
        }
      ],
      "source": [
        "from aitemplates import ChatPair\n",
        "# we can also chain these together using a handy ChatConversation class we defined earlier when working with async functions\n",
        "# let's ask another question\n",
        "\n",
        "# now lets chain a few of these together using the ChatConversation we defined\n",
        "function_pair2 = FunctionPair(shares_calculation, get_shares_calculation)\n",
        "\n",
        "functions_available.add_function_pairs(function_pair2)\n",
        "\n",
        "existing_chat = ChatPair(sequence1, response_dict)\n",
        "\n",
        "next_msg_response_pair = ChatPair(sequence2)\n",
        "\n",
        "# this will create a list of tuples (ChatSequence, None)\n",
        "chat = ChatConversation([existing_chat, next_msg_response_pair])\n",
        "\n",
        "create_chat_completion(chat, functions=functions_available, auto_call_func=True)"
      ]
    },
    {
      "cell_type": "code",
      "execution_count": 12,
      "metadata": {},
      "outputs": [
        {
          "name": "stdout",
          "output_type": "stream",
          "text": [
            "Prompt: Can you tell me the price of a stock? \n",
            "\n",
            "Response: Sure, I can help you with that. Please provide me with the name of the company whose stock price you would like to know. \n",
            "\n",
            "\n",
            "Prompt: Can you tell me how much stock I can afford to buy with my budget? \n",
            "\n",
            "Response: Sure, I can help you with that. Could you please provide me with the name of the company and your budget for stock purchases? \n",
            "\n",
            "\n"
          ]
        }
      ],
      "source": [
        "# this is also now added to the chat conversation automatically\n",
        "chat.display_conversation() "
      ]
    },
    {
      "cell_type": "code",
      "execution_count": 13,
      "metadata": {},
      "outputs": [
        {
          "name": "stdout",
          "output_type": "stream",
          "text": [
            "Gamestop\n",
            "Total running cost: $0.003\n"
          ]
        },
        {
          "data": {
            "text/plain": [
              "130.84112149532712"
            ]
          },
          "execution_count": 13,
          "metadata": {},
          "output_type": "execute_result"
        }
      ],
      "source": [
        "# finally, we respond with clarification so that it can use the second function we passed \n",
        "response_to_info_request = ChatSequence([Message('user', 'I told you, Gamestop is the stock... the budget it 42000')])\n",
        "\n",
        "chat.add_pair(response_to_info_request)\n",
        "\n",
        "response3 = create_chat_completion(chat, functions=functions_available, auto_call_func=True)\n",
        "response3"
      ]
    },
    {
      "cell_type": "code",
      "execution_count": 14,
      "metadata": {},
      "outputs": [
        {
          "name": "stdout",
          "output_type": "stream",
          "text": [
            "Prompt: Can you tell me the price of a stock? \n",
            "\n",
            "Response: Sure, I can help you with that. Please provide me with the name of the company whose stock price you would like to know. \n",
            "\n",
            "\n",
            "Prompt: Can you tell me how much stock I can afford to buy with my budget? \n",
            "\n",
            "Response: Sure, I can help you with that. Could you please provide me with the name of the company and your budget for stock purchases? \n",
            "\n",
            "\n",
            "Prompt: I told you, Gamestop is the stock... the budget it 42000 \n",
            "\n",
            "Response: 130.84112149532712 \n",
            "\n",
            "\n"
          ]
        }
      ],
      "source": [
        "chat.display_conversation()"
      ]
    },
    {
      "cell_type": "code",
      "execution_count": 15,
      "metadata": {},
      "outputs": [
        {
          "data": {
            "text/plain": [
              "0.002649"
            ]
          },
          "execution_count": 15,
          "metadata": {},
          "output_type": "execute_result"
        }
      ],
      "source": [
        "from aitemplates import SingleApiManager\n",
        "\n",
        "api_manager = SingleApiManager()\n",
        "api_manager.total_cost"
      ]
    }
  ],
  "metadata": {
    "kernelspec": {
      "display_name": "base",
      "language": "python",
      "name": "python3"
    },
    "language_info": {
      "codemirror_mode": {
        "name": "ipython",
        "version": 3
      },
      "file_extension": ".py",
      "mimetype": "text/x-python",
      "name": "python",
      "nbconvert_exporter": "python",
      "pygments_lexer": "ipython3",
      "version": "3.9.13"
    },
    "orig_nbformat": 4
  },
  "nbformat": 4,
  "nbformat_minor": 2
}
