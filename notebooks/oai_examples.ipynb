{
  "cells": [
    {
      "cell_type": "code",
      "execution_count": 1,
      "metadata": {},
      "outputs": [
        {
          "name": "stdout",
          "output_type": "stream",
          "text": [
            "Total running cost: $0.000\n"
          ]
        },
        {
          "data": {
            "text/plain": [
              "\"I'm sorry, but as an AI language model, I don't have real-time data or the ability to browse the internet. Therefore, I cannot provide you with the current price of a stock. However, you can easily find the price of a stock by using financial websites, stock market apps, or by contacting your broker.\""
            ]
          },
          "execution_count": 1,
          "metadata": {},
          "output_type": "execute_result"
        }
      ],
      "source": [
        "from aitemplates import create_chat_completion, Message, ChatSequence\n",
        "\n",
        "message1 = Message('user', 'Can you tell me the price of a stock?')\n",
        "sequence1 = ChatSequence([message1])\n",
        "create_chat_completion(sequence1)"
      ]
    },
    {
      "cell_type": "code",
      "execution_count": 2,
      "metadata": {},
      "outputs": [
        {
          "name": "stdout",
          "output_type": "stream",
          "text": [
            "Total running cost: $0.000\n",
            " [-0.008373594842851162,-0.008980377577245235...-0.004793579690158367] 1536\n"
          ]
        }
      ],
      "source": [
        "from aitemplates import get_embedding\n",
        "\n",
        "embedding = get_embedding('Can you tell me the price of a stock?')\n",
        "\n",
        "print(f\" [{embedding[0]},{embedding[1]}...{embedding[-1]}] {len(embedding)}\")"
      ]
    },
    {
      "cell_type": "code",
      "execution_count": 3,
      "metadata": {},
      "outputs": [
        {
          "name": "stderr",
          "output_type": "stream",
          "text": [
            "100%|██████████| 2/2 [00:02<00:00,  1.24s/it]"
          ]
        },
        {
          "name": "stdout",
          "output_type": "stream",
          "text": [
            "Total running cost: $0.000\n"
          ]
        },
        {
          "name": "stderr",
          "output_type": "stream",
          "text": [
            "\n"
          ]
        }
      ],
      "source": [
        "from aitemplates import async_create_chat_completion\n",
        "from aitemplates import ChatConversation\n",
        "\n",
        "\n",
        "message2 = Message('user', 'Can you tell me how much stock I can afford to buy with my budget?')\n",
        "sequence2 = ChatSequence([message2])\n",
        "chat=ChatConversation([sequence1, sequence2])\n",
        "async_generate = await async_create_chat_completion(chat, keep_order=True)"
      ]
    },
    {
      "cell_type": "code",
      "execution_count": 4,
      "metadata": {},
      "outputs": [
        {
          "name": "stdout",
          "output_type": "stream",
          "text": [
            "user: Can you tell me the price of a stock?\n",
            "\n",
            "Response: As an AI language model, I do not have access to real-time stock market data. Please check a financial website or consult a financial advisor for the current price of a stock. \n",
            "\n",
            "\n",
            "user: Can you tell me how much stock I can afford to buy with my budget?\n",
            "\n",
            "Response: As an AI language model, I do not have access to your budget information. Please provide me with your budget and the current stock price you are interested in, and I can help you calculate the number of shares you can afford to buy. \n",
            "\n",
            "\n"
          ]
        }
      ],
      "source": [
        "async_generate.display_conversation()"
      ]
    },
    {
      "cell_type": "code",
      "execution_count": 5,
      "metadata": {},
      "outputs": [
        {
          "name": "stderr",
          "output_type": "stream",
          "text": [
            " 50%|█████     | 1/2 [00:01<00:01,  1.82s/it]"
          ]
        },
        {
          "name": "stdout",
          "output_type": "stream",
          "text": [
            "Total running cost: $0.000\n",
            "As an AI language model, I do not have access to real-time stock market data. Please check a financial website or consult a financial advisor for the current price of a stock.\n",
            "\n"
          ]
        },
        {
          "name": "stderr",
          "output_type": "stream",
          "text": [
            "100%|██████████| 2/2 [00:02<00:00,  1.21s/it]"
          ]
        },
        {
          "name": "stdout",
          "output_type": "stream",
          "text": [
            "Total running cost: $0.000\n",
            "As an AI language model, I do not have access to your budget information. Please provide me with your budget and the current stock price you are interested in, and I can help you calculate the number of shares you can afford to buy.\n",
            "\n"
          ]
        },
        {
          "name": "stderr",
          "output_type": "stream",
          "text": [
            "\n"
          ]
        }
      ],
      "source": [
        "from aitemplates import async_create_chat_completion\n",
        "\n",
        "\n",
        "chat2 = ChatConversation([sequence1, sequence2])\n",
        "async_generate = await async_create_chat_completion(chat, print_every=True)"
      ]
    },
    {
      "cell_type": "code",
      "execution_count": 6,
      "metadata": {},
      "outputs": [],
      "source": [
        "# first lets define our functions\n",
        "stock_price = {\n",
        "        \"name\": \"get_company_stock_price\",\n",
        "        \"description\": \"Use this function to get the price of a stock.\",\n",
        "        \"parameters\": {\n",
        "            \"type\": \"object\",\n",
        "            \"properties\": {\n",
        "                \"company\": {\n",
        "                    \"type\": \"string\",\n",
        "                    \"description\": \"The name of the company\",\n",
        "                },\n",
        "            },\n",
        "            \"required\": [\"company\"]\n",
        "        },\n",
        "    }\n",
        "\n",
        "shares_calculation = {\n",
        "        \"name\": \"get_shares_calculation\",\n",
        "        \"description\": \"Use this function to calculate how many shares you can buy with a certain budget, given a stock and a price of the stock\",\n",
        "        \"parameters\": {\n",
        "            \"type\": \"object\",\n",
        "            \"properties\": {\n",
        "                \"company\": {\n",
        "                    \"type\": \"integer\",\n",
        "                    \"description\": \"The name of the company\",\n",
        "                },\n",
        "                \"price\": {\n",
        "                    \"type\": \"integer\",\n",
        "                    \"description\": \"The price of the stock\",\n",
        "                },\n",
        "                \"budget\": {\n",
        "                    \"type\": \"integer\",\n",
        "                    \"description\": \"What your budget for stock purchases is\",\n",
        "                },\n",
        "            },\n",
        "            \"required\": [\"company\", \"budget\"]\n",
        "        },\n",
        "    }"
      ]
    },
    {
      "cell_type": "code",
      "execution_count": 7,
      "metadata": {},
      "outputs": [],
      "source": [
        "from typing import Optional\n",
        "\n",
        "\n",
        "# next, we need to define our functions so that they can be retrieved once a definition matches\n",
        "def get_company_stock_price(company: str) -> float:\n",
        "    \"\"\"Get the stock price of a specified company.\"\"\"\n",
        "\n",
        "    print(company)\n",
        "    # implement logic here to call the api \n",
        "    \n",
        "    return 321\n",
        "\n",
        "def get_shares_calculation(company: str, budget: int, price: Optional[int] = None) -> float:\n",
        "    \"\"\"Calculate how many shares I can buy for a given stock\"\"\"\n",
        "    \n",
        "    current_price = price\n",
        "    \n",
        "    if current_price is None:\n",
        "        # Get the current stock price of the company\n",
        "        current_price = get_company_stock_price(company)\n",
        "\n",
        "    # Calculate the number of shares that can be bought with the budget\n",
        "    return budget / current_price"
      ]
    },
    {
      "cell_type": "code",
      "execution_count": 8,
      "metadata": {},
      "outputs": [
        {
          "name": "stdout",
          "output_type": "stream",
          "text": [
            "Apple\n",
            "Total running cost: $0.001\n"
          ]
        },
        {
          "data": {
            "text/plain": [
              "(<OpenAIObject chat.completion id=chatcmpl-7SE0RaJApzweMgQNzOjq25kuDXej1 at 0x29400fff5e0> JSON: {\n",
              "   \"id\": \"chatcmpl-7SE0RaJApzweMgQNzOjq25kuDXej1\",\n",
              "   \"object\": \"chat.completion\",\n",
              "   \"created\": 1686961379,\n",
              "   \"model\": \"gpt-3.5-turbo-0613\",\n",
              "   \"choices\": [\n",
              "     {\n",
              "       \"index\": 0,\n",
              "       \"message\": {\n",
              "         \"role\": \"assistant\",\n",
              "         \"content\": null,\n",
              "         \"function_call\": {\n",
              "           \"name\": \"get_company_stock_price\",\n",
              "           \"arguments\": \"{\\n  \\\"company\\\": \\\"Apple\\\"\\n}\"\n",
              "         }\n",
              "       },\n",
              "       \"finish_reason\": \"stop\"\n",
              "     }\n",
              "   ],\n",
              "   \"usage\": {\n",
              "     \"prompt_tokens\": 77,\n",
              "     \"completion_tokens\": 9,\n",
              "     \"total_tokens\": 86\n",
              "   }\n",
              " },\n",
              " 321)"
            ]
          },
          "execution_count": 8,
          "metadata": {},
          "output_type": "execute_result"
        }
      ],
      "source": [
        "from aitemplates import FunctionsAvailable, FunctionPair\n",
        "\n",
        "# match the description to the function\n",
        "function_pair1 = FunctionPair(stock_price, get_company_stock_price)\n",
        "\n",
        "# next, let's add them to the FunctionsAvailable dataclass for easy access\n",
        "functions_available = FunctionsAvailable([function_pair1])\n",
        "\n",
        "sequence1.function_pairs.add_function_pairs(functions_available)\n",
        "\n",
        "# if you pass in a function_call, it will call the function with assumptions\n",
        "create_chat_completion(sequence1, function_call={\"name\": \"get_company_stock_price\"}, send_object=True)"
      ]
    },
    {
      "cell_type": "code",
      "execution_count": 9,
      "metadata": {},
      "outputs": [
        {
          "name": "stdout",
          "output_type": "stream",
          "text": [
            "Total running cost: $0.001\n"
          ]
        },
        {
          "data": {
            "text/plain": [
              "(ResponseDict(index=0, message=Message(role='assistant', content='Sure, I can help you with that. Please provide me with the name of the company whose stock price you would like to know.', function_call=None), finish_reason='stop', model='gpt-3.5-turbo-0613', created=1686961380),\n",
              " <OpenAIObject chat.completion id=chatcmpl-7SE0SGZeuDq15O508amYCraBvkKb8 at 0x29402e11b80> JSON: {\n",
              "   \"id\": \"chatcmpl-7SE0SGZeuDq15O508amYCraBvkKb8\",\n",
              "   \"object\": \"chat.completion\",\n",
              "   \"created\": 1686961380,\n",
              "   \"model\": \"gpt-3.5-turbo-0613\",\n",
              "   \"choices\": [\n",
              "     {\n",
              "       \"index\": 0,\n",
              "       \"message\": {\n",
              "         \"role\": \"assistant\",\n",
              "         \"content\": \"Sure, I can help you with that. Please provide me with the name of the company whose stock price you would like to know.\"\n",
              "       },\n",
              "       \"finish_reason\": \"stop\"\n",
              "     }\n",
              "   ],\n",
              "   \"usage\": {\n",
              "     \"prompt_tokens\": 69,\n",
              "     \"completion_tokens\": 28,\n",
              "     \"total_tokens\": 97\n",
              "   }\n",
              " })"
            ]
          },
          "execution_count": 9,
          "metadata": {},
          "output_type": "execute_result"
        }
      ],
      "source": [
        "from aitemplates import ResponseDict\n",
        "\n",
        "# otherwise if the request matches one of the functions, it will ask you for clarification if it needs\n",
        "response = create_chat_completion(sequence1, send_object=True)\n",
        "\n",
        "# if function was called this is (ResponseDict, function_response), else it just returns a ResponseDict\n",
        "response_tuple = ResponseDict.convert_to_response_dict(response)\n",
        "response_tuple"
      ]
    },
    {
      "cell_type": "code",
      "execution_count": 10,
      "metadata": {},
      "outputs": [
        {
          "name": "stdout",
          "output_type": "stream",
          "text": [
            "Gamestop\n",
            "Total running cost: $0.001\n"
          ]
        },
        {
          "data": {
            "text/plain": [
              "(ResponseDict(index=0, message=Message(role='assistant', content=None, function_call=<OpenAIObject at 0x29402e5c130> JSON: {\n",
              "   \"name\": \"get_company_stock_price\",\n",
              "   \"arguments\": \"{\\n  \\\"company\\\": \\\"Gamestop\\\"\\n}\"\n",
              " }), finish_reason='function_call', model='gpt-3.5-turbo-0613', created=1686961381),\n",
              " 321)"
            ]
          },
          "execution_count": 10,
          "metadata": {},
          "output_type": "execute_result"
        }
      ],
      "source": [
        "# lets respond to the message above with the answer\n",
        "response_dict = response_tuple[0]\n",
        "llm_response = ChatSequence([response_dict.message])\n",
        "\n",
        "chat_response = ChatSequence([Message('user', 'The Gamestop stock please')])\n",
        "\n",
        "# you can see that we are passing the llm_response concatenated with our first and second queries\n",
        "# previously we didn't pass in the functions globally, if you want certain functions to only apply to certain prompts add the function_pairs to those prompts\n",
        "response2 = create_chat_completion(sequence1 + llm_response + chat_response, functions=functions_available, send_object=True)\n",
        "response2 = ResponseDict.convert_to_response_dict(response2)\n",
        "response2 "
      ]
    },
    {
      "cell_type": "code",
      "execution_count": 11,
      "metadata": {},
      "outputs": [
        {
          "name": "stdout",
          "output_type": "stream",
          "text": [
            "Total running cost: $0.001\n"
          ]
        },
        {
          "data": {
            "text/plain": [
              "'Sure, I can help you with that. Could you please provide me with the following information:\\n\\n1. The name of the company you are interested in.\\n2. Your budget for stock purchases.'"
            ]
          },
          "execution_count": 11,
          "metadata": {},
          "output_type": "execute_result"
        }
      ],
      "source": [
        "from aitemplates import ChatPair\n",
        "# we can also chain these together using a handy ChatConversation class we defined earlier when working with async functions\n",
        "# let's ask another question\n",
        "\n",
        "# now lets chain a few of these together using the ChatConversation we defined\n",
        "function_pair2 = FunctionPair(shares_calculation, get_shares_calculation)\n",
        "\n",
        "functions_available.add_function_pairs(function_pair2)\n",
        "\n",
        "existing_chat = ChatPair(sequence1, response_dict)\n",
        "\n",
        "next_msg_response_pair = ChatPair(sequence2)\n",
        "\n",
        "# this will create a list of tuples (ChatSequence, None)\n",
        "chat = ChatConversation([existing_chat, next_msg_response_pair])\n",
        "\n",
        "create_chat_completion(chat, functions=functions_available)"
      ]
    },
    {
      "cell_type": "code",
      "execution_count": 12,
      "metadata": {},
      "outputs": [
        {
          "name": "stdout",
          "output_type": "stream",
          "text": [
            "user: Can you tell me the price of a stock?\n",
            "\n",
            "Response: Sure, I can help you with that. Please provide me with the name of the company whose stock price you would like to know. \n",
            "\n",
            "\n",
            "user: Can you tell me how much stock I can afford to buy with my budget?\n",
            "\n",
            "Response: Sure, I can help you with that. Could you please provide me with the following information:\n",
            "\n",
            "1. The name of the company you are interested in.\n",
            "2. Your budget for stock purchases. \n",
            "\n",
            "\n"
          ]
        }
      ],
      "source": [
        "# this is also now added to the chat conversation automatically\n",
        "chat.display_conversation() "
      ]
    },
    {
      "cell_type": "code",
      "execution_count": 13,
      "metadata": {},
      "outputs": [
        {
          "name": "stdout",
          "output_type": "stream",
          "text": [
            "Gamestop\n",
            "Total running cost: $0.001\n"
          ]
        },
        {
          "data": {
            "text/plain": [
              "130.84112149532712"
            ]
          },
          "execution_count": 13,
          "metadata": {},
          "output_type": "execute_result"
        }
      ],
      "source": [
        "# finally, we respond with clarification so that it can use the second function we passed \n",
        "response_to_info_request = ChatSequence([Message('user', 'I told you, Gamestop is the stock... the budget it 42000')])\n",
        "\n",
        "chat.add_pair(response_to_info_request)\n",
        "\n",
        "response3 = create_chat_completion(chat, functions=functions_available)\n",
        "response3"
      ]
    },
    {
      "cell_type": "code",
      "execution_count": 14,
      "metadata": {},
      "outputs": [
        {
          "name": "stdout",
          "output_type": "stream",
          "text": [
            "user: Can you tell me the price of a stock?\n",
            "\n",
            "Response: Sure, I can help you with that. Please provide me with the name of the company whose stock price you would like to know. \n",
            "\n",
            "\n",
            "user: Can you tell me how much stock I can afford to buy with my budget?\n",
            "\n",
            "Response: Sure, I can help you with that. Could you please provide me with the following information:\n",
            "\n",
            "1. The name of the company you are interested in.\n",
            "2. Your budget for stock purchases. \n",
            "\n",
            "\n",
            "user: I told you, Gamestop is the stock... the budget it 42000\n",
            "\n",
            "Response: 130.84112149532712 \n",
            "\n",
            "\n"
          ]
        }
      ],
      "source": [
        "chat.display_conversation()"
      ]
    },
    {
      "cell_type": "code",
      "execution_count": 18,
      "metadata": {},
      "outputs": [
        {
          "data": {
            "text/plain": [
              "0.0008147"
            ]
          },
          "execution_count": 18,
          "metadata": {},
          "output_type": "execute_result"
        }
      ],
      "source": [
        "from aitemplates import SingleApiManager\n",
        "\n",
        "api_manager = SingleApiManager()\n",
        "api_manager.total_cost"
      ]
    }
  ],
  "metadata": {
    "kernelspec": {
      "display_name": "base",
      "language": "python",
      "name": "python3"
    },
    "language_info": {
      "codemirror_mode": {
        "name": "ipython",
        "version": 3
      },
      "file_extension": ".py",
      "mimetype": "text/x-python",
      "name": "python",
      "nbconvert_exporter": "python",
      "pygments_lexer": "ipython3",
      "version": "3.9.13"
    },
    "orig_nbformat": 4
  },
  "nbformat": 4,
  "nbformat_minor": 2
}
