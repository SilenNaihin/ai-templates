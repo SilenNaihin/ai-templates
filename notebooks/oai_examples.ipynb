{
  "cells": [
    {
      "cell_type": "code",
      "execution_count": 1,
      "metadata": {},
      "outputs": [
        {
          "name": "stdout",
          "output_type": "stream",
          "text": [
            "Total running cost: $0.000\n"
          ]
        },
        {
          "data": {
            "text/plain": [
              "\"I'm sorry, but as an AI language model, I don't have real-time data or the ability to browse the internet. Therefore, I cannot provide you with the current price of a stock. However, you can easily find the price of a stock by using financial websites, stock market apps, or by contacting your broker.\""
            ]
          },
          "execution_count": 1,
          "metadata": {},
          "output_type": "execute_result"
        }
      ],
      "source": [
        "from aitemplates.oai.responses.chat_response import create_chat_completion\n",
        "from aitemplates.oai.types.base import Message\n",
        "from aitemplates.oai.types.chat import ChatSequence\n",
        "\n",
        "message1 = Message('user', 'Can you tell me the price of a stock?')\n",
        "sequence1 = ChatSequence([message1])\n",
        "create_chat_completion(sequence1)"
      ]
    },
    {
      "cell_type": "code",
      "execution_count": 2,
      "metadata": {},
      "outputs": [
        {
          "name": "stdout",
          "output_type": "stream",
          "text": [
            "Total running cost: $0.000\n",
            " [-0.008373594842851162,-0.008980377577245235...-0.004793579690158367] 1536\n"
          ]
        }
      ],
      "source": [
        "from aitemplates.oai.responses.embedding import get_embedding\n",
        "\n",
        "embedding = get_embedding('Can you tell me the price of a stock?')\n",
        "\n",
        "print(f\" [{embedding[0]},{embedding[1]}...{embedding[-1]}] {len(embedding)}\")"
      ]
    },
    {
      "cell_type": "code",
      "execution_count": null,
      "metadata": {},
      "outputs": [
        {
          "name": "stderr",
          "output_type": "stream",
          "text": [
            "100%|██████████| 2/2 [00:02<00:00,  1.21s/it]"
          ]
        },
        {
          "name": "stdout",
          "output_type": "stream",
          "text": [
            "Total running cost: $0.000\n",
            "user: Can you tell me the price of a stock?\n",
            "\n",
            "Response: As an AI language model, I do not have access to real-time stock market data. Please check a financial website or consult a financial advisor for the current price of a stock. \n",
            "\n",
            "\n",
            "user: Can you tell me how much stock I can afford to buy with my budget?\n",
            "\n",
            "Response: As an AI language model, I do not have access to your budget information. Please provide me with your budget and the current stock price you are interested in, and I can help you calculate the number of shares you can afford to buy. \n",
            "\n",
            "\n"
          ]
        },
        {
          "name": "stderr",
          "output_type": "stream",
          "text": [
            "\n"
          ]
        }
      ],
      "source": [
        "from aitemplates.oai.responses.async_chat_response import async_create_chat_completion\n",
        "from aitemplates.oai.types.chat import ChatConversation\n",
        "\n",
        "\n",
        "message2 = Message('user', 'Can you tell me how much stock I can afford to buy with my budget?')\n",
        "sequence2 = ChatSequence([message2])\n",
        "chat=ChatConversation([sequence1, sequence2])\n",
        "async_generate = await async_create_chat_completion(chat, keep_order=True)\n",
        "async_generate.display_conversation()"
      ]
    },
    {
      "cell_type": "code",
      "execution_count": 4,
      "metadata": {},
      "outputs": [
        {
          "ename": "NameError",
          "evalue": "name 'async_generate' is not defined",
          "output_type": "error",
          "traceback": [
            "\u001b[1;31m---------------------------------------------------------------------------\u001b[0m",
            "\u001b[1;31mNameError\u001b[0m                                 Traceback (most recent call last)",
            "\u001b[1;32m~\\AppData\\Local\\Temp\\ipykernel_9124\\2748404518.py\u001b[0m in \u001b[0;36m<module>\u001b[1;34m\u001b[0m\n\u001b[1;32m----> 1\u001b[1;33m \u001b[0masync_generate\u001b[0m\u001b[1;33m.\u001b[0m\u001b[0mdisplay_conversation\u001b[0m\u001b[1;33m(\u001b[0m\u001b[1;33m)\u001b[0m\u001b[1;33m\u001b[0m\u001b[1;33m\u001b[0m\u001b[0m\n\u001b[0m",
            "\u001b[1;31mNameError\u001b[0m: name 'async_generate' is not defined"
          ]
        }
      ],
      "source": [
        "async_generate.display_conversation()"
      ]
    },
    {
      "cell_type": "code",
      "execution_count": 5,
      "metadata": {},
      "outputs": [
        {
          "name": "stderr",
          "output_type": "stream",
          "text": [
            " 50%|█████     | 1/2 [00:02<00:02,  2.20s/it]"
          ]
        },
        {
          "name": "stdout",
          "output_type": "stream",
          "text": [
            "Total running cost: $0.000\n",
            "As an AI language model, I do not have access to your budget information. Please provide me with your budget and the current stock price you are interested in, and I can help you calculate the number of shares you can afford to buy.\n",
            "\n"
          ]
        },
        {
          "name": "stderr",
          "output_type": "stream",
          "text": [
            "100%|██████████| 2/2 [00:02<00:00,  1.24s/it]"
          ]
        },
        {
          "name": "stdout",
          "output_type": "stream",
          "text": [
            "Total running cost: $0.000\n",
            "As an AI language model, I do not have access to real-time stock market data. Please check a financial website or consult a financial advisor for the current price of a stock.\n",
            "\n"
          ]
        },
        {
          "name": "stderr",
          "output_type": "stream",
          "text": [
            "\n"
          ]
        }
      ],
      "source": [
        "from aitemplates.oai.responses.async_chat_response import async_create_chat_completion\n",
        "\n",
        "\n",
        "chat2 = ChatConversation([sequence1, sequence2])\n",
        "async_generate = await async_create_chat_completion(chat, print_every=True)"
      ]
    },
    {
      "cell_type": "code",
      "execution_count": 6,
      "metadata": {},
      "outputs": [],
      "source": [
        "from aitemplates.oai.types.functions import FunctionsAvailable, FunctionPair\n",
        "\n",
        "\n",
        "# first lets define our functions\n",
        "# first lets define our functions\n",
        "stock_price = {\n",
        "        \"name\": \"get_company_stock_price\",\n",
        "        \"description\": \"Use this function to get the price of a stock.\",\n",
        "        \"parameters\": {\n",
        "            \"type\": \"object\",\n",
        "            \"properties\": {\n",
        "                \"company\": {\n",
        "                    \"type\": \"string\",\n",
        "                    \"description\": \"The name of the company\",\n",
        "                },\n",
        "            },\n",
        "            \"required\": [\"company\"]\n",
        "        },\n",
        "    }\n",
        "\n",
        "shares_calculation = {\n",
        "        \"name\": \"get_shares_calculation\",\n",
        "        \"description\": \"Use this function to calculate how many shares you can buy with a certain budget, given a stock and a price of the stock\",\n",
        "        \"parameters\": {\n",
        "            \"type\": \"object\",\n",
        "            \"properties\": {\n",
        "                \"company\": {\n",
        "                    \"type\": \"string\",\n",
        "                    \"description\": \"The name of the company\",\n",
        "                },\n",
        "                \"price\": {\n",
        "                    \"type\": \"float\",\n",
        "                    \"description\": \"The price of the stock\",\n",
        "                },\n",
        "                \"budget\": {\n",
        "                    \"type\": \"string\",\n",
        "                    \"description\": \"What your budget for stock purchases is\",\n",
        "                },\n",
        "            },\n",
        "            \"required\": [\"company\", \"budget\"]\n",
        "        },\n",
        "    }"
      ]
    },
    {
      "cell_type": "code",
      "execution_count": 7,
      "metadata": {},
      "outputs": [],
      "source": [
        "from typing import Optional\n",
        "\n",
        "\n",
        "# next, we need to define our functions so that they can be retrieved once a definition matches\n",
        "def get_company_stock_price(company: str) -> float:\n",
        "    \"\"\"Get the stock price of a specified company.\"\"\"\n",
        "\n",
        "    print(company)\n",
        "    # implement logic here to call the api \n",
        "    \n",
        "    return 321\n",
        "\n",
        "def get_shares_calculation(company: str, price: Optional[int], budget: int) -> float:\n",
        "    \"\"\"Calculate how many shares I can buy for a given stock\"\"\"\n",
        "    \n",
        "    current_price = price\n",
        "    \n",
        "    if current_price is None:\n",
        "        # Get the current stock price of the company\n",
        "        current_price = get_company_stock_price(company)\n",
        "\n",
        "    # Calculate the number of shares that can be bought with the budget\n",
        "    return budget / current_price"
      ]
    },
    {
      "cell_type": "code",
      "execution_count": 2,
      "metadata": {},
      "outputs": [
        {
          "name": "stdout",
          "output_type": "stream",
          "text": [
            "{'model': 'gpt-3.5-turbo-0613', 'messages': [{'role': 'user', 'content': 'Can you tell me the price of a stock?'}], 'temperature': 0, 'max_tokens': None, 'top_p': 1, 'n': 1, 'stop': None, 'presence_penalty': 0, 'frequency_penalty': 0, 'functions': [{'name': 'get_company_stock_price', 'description': 'Use this function to get the price of a stock.', 'parameters': {'type': 'object', 'properties': {'company': {'type': 'string', 'description': 'The name of the company'}}, 'required': ['company']}}, {'name': 'get_company_stock_price', 'description': 'Use this function to get the price of a stock.', 'parameters': {'type': 'object', 'properties': {'company': {'type': 'string', 'description': 'The name of the company'}}, 'required': ['company']}}], 'function_call': {'name': 'get_company_stock_price'}}\n",
            "Total running cost: $0.000\n"
          ]
        },
        {
          "data": {
            "text/plain": [
              "<OpenAIObject chat.completion id=chatcmpl-7RpvBsuMmbFqqC5tE3gzrRDhf3r0X at 0x17babd630e0> JSON: {\n",
              "  \"id\": \"chatcmpl-7RpvBsuMmbFqqC5tE3gzrRDhf3r0X\",\n",
              "  \"object\": \"chat.completion\",\n",
              "  \"created\": 1686868797,\n",
              "  \"model\": \"gpt-3.5-turbo-0613\",\n",
              "  \"choices\": [\n",
              "    {\n",
              "      \"index\": 0,\n",
              "      \"message\": {\n",
              "        \"role\": \"assistant\",\n",
              "        \"content\": null,\n",
              "        \"function_call\": {\n",
              "          \"name\": \"get_company_stock_price\",\n",
              "          \"arguments\": \"{\\n  \\\"company\\\": \\\"Apple\\\"\\n}\"\n",
              "        }\n",
              "      },\n",
              "      \"finish_reason\": \"stop\"\n",
              "    }\n",
              "  ],\n",
              "  \"usage\": {\n",
              "    \"prompt_tokens\": 113,\n",
              "    \"completion_tokens\": 9,\n",
              "    \"total_tokens\": 122\n",
              "  }\n",
              "}"
            ]
          },
          "execution_count": 2,
          "metadata": {},
          "output_type": "execute_result"
        }
      ],
      "source": [
        "# match the description to the function\n",
        "function_pair1 = FunctionPair(stock_price, get_company_stock_price)\n",
        "\n",
        "# next, let's add them to the FunctionsAvailable dataclass for easy access\n",
        "functions_available = FunctionsAvailable([function_pair1])\n",
        "\n",
        "sequence1.function_pairs.add_function_pairs(functions_available)\n",
        "\n",
        "# if you pass in a function_call, it will call the function with assumptions\n",
        "create_chat_completion(sequence1, function_call={\"name\": \"get_company_stock_price\"}, send_object=True)"
      ]
    },
    {
      "cell_type": "code",
      "execution_count": 1,
      "metadata": {},
      "outputs": [
        {
          "name": "stdout",
          "output_type": "stream",
          "text": [
            "Total running cost: $0.000\n"
          ]
        },
        {
          "data": {
            "text/plain": [
              "<OpenAIObject chat.completion id=chatcmpl-7RqsbLH6ntMr29TeieDPfZEM92gfa at 0x26d920b7680> JSON: {\n",
              "  \"id\": \"chatcmpl-7RqsbLH6ntMr29TeieDPfZEM92gfa\",\n",
              "  \"object\": \"chat.completion\",\n",
              "  \"created\": 1686872481,\n",
              "  \"model\": \"gpt-3.5-turbo-0613\",\n",
              "  \"choices\": [\n",
              "    {\n",
              "      \"index\": 0,\n",
              "      \"message\": {\n",
              "        \"role\": \"assistant\",\n",
              "        \"content\": \"Sure, I can help you with that. Please provide me with the name of the company whose stock price you would like to know.\"\n",
              "      },\n",
              "      \"finish_reason\": \"stop\"\n",
              "    }\n",
              "  ],\n",
              "  \"usage\": {\n",
              "    \"prompt_tokens\": 69,\n",
              "    \"completion_tokens\": 28,\n",
              "    \"total_tokens\": 97\n",
              "  }\n",
              "}"
            ]
          },
          "execution_count": 1,
          "metadata": {},
          "output_type": "execute_result"
        }
      ],
      "source": [
        "from typing import Optional\n",
        "from aitemplates.oai.types.functions import FunctionsAvailable, FunctionPair\n",
        "from aitemplates.oai.types.functions import FunctionsAvailable, FunctionPair\n",
        "from aitemplates.oai.responses.async_chat_response import async_create_chat_completion\n",
        "from aitemplates.oai.responses.async_chat_response import async_create_chat_completion\n",
        "from aitemplates.oai.types.chat import ChatConversation\n",
        "from aitemplates.oai.responses.chat_response import create_chat_completion\n",
        "from aitemplates.oai.types.base import Message\n",
        "from aitemplates.oai.types.chat import ChatSequence\n",
        "\n",
        "message1 = Message('user', 'Can you tell me the price of a stock?')\n",
        "sequence1 = ChatSequence([message1])\n",
        "\n",
        "message2 = Message('user', 'Can you tell me how much stock I can afford to buy with my budget?')\n",
        "sequence2 = ChatSequence([message2])\n",
        "chat=ChatConversation([sequence1, sequence2])\n",
        "\n",
        "# first lets define our functions\n",
        "stock_price = {\n",
        "        \"name\": \"get_company_stock_price\",\n",
        "        \"description\": \"Use this function to get the price of a stock.\",\n",
        "        \"parameters\": {\n",
        "            \"type\": \"object\",\n",
        "            \"properties\": {\n",
        "                \"company\": {\n",
        "                    \"type\": \"string\",\n",
        "                    \"description\": \"The name of the company\",\n",
        "                },\n",
        "            },\n",
        "            \"required\": [\"company\"]\n",
        "        },\n",
        "    }\n",
        "\n",
        "shares_calculation = {\n",
        "        \"name\": \"get_shares_calculation\",\n",
        "        \"description\": \"Use this function to calculate how many shares you can buy with a certain budget, given a stock and a price of the stock\",\n",
        "        \"parameters\": {\n",
        "            \"type\": \"object\",\n",
        "            \"properties\": {\n",
        "                \"company\": {\n",
        "                    \"type\": \"string\",\n",
        "                    \"description\": \"The name of the company\",\n",
        "                },\n",
        "                \"price\": {\n",
        "                    \"type\": \"float\",\n",
        "                    \"description\": \"The price of the stock\",\n",
        "                },\n",
        "                \"budget\": {\n",
        "                    \"type\": \"string\",\n",
        "                    \"description\": \"What your budget for stock purchases is\",\n",
        "                },\n",
        "            },\n",
        "            \"required\": [\"company\", \"budget\"]\n",
        "        },\n",
        "    }\n",
        "\n",
        "# next, we need to define our functions so that they can be retrieved once a definition matches\n",
        "def get_company_stock_price(company: str) -> float:\n",
        "    \"\"\"Get the stock price of a specified company.\"\"\"\n",
        "\n",
        "    print(company)\n",
        "    # implement logic here to call the api \n",
        "    \n",
        "    return 321\n",
        "\n",
        "def get_shares_calculation(company: str, price: Optional[int], budget: int) -> float:\n",
        "    \"\"\"Calculate how many shares I can buy for a given stock\"\"\"\n",
        "    \n",
        "    current_price = price\n",
        "    \n",
        "    if current_price is None:\n",
        "        # Get the current stock price of the company\n",
        "        current_price = get_company_stock_price(company)\n",
        "\n",
        "    # Calculate the number of shares that can be bought with the budget\n",
        "    return budget / current_price\n",
        "\n",
        "# match the description to the function\n",
        "function_pair1 = FunctionPair(stock_price, get_company_stock_price)\n",
        "\n",
        "# next, let's add them to the FunctionsAvailable dataclass for easy access\n",
        "functions_available = FunctionsAvailable([function_pair1])\n",
        "\n",
        "sequence1.function_pairs.add_function_pairs(functions_available)\n",
        "\n",
        "\n",
        "\n",
        "\n",
        "\n",
        "# otherwise if the request matches one of the functions, it will ask you for clarification if it needs\n",
        "response = create_chat_completion(sequence1, send_object=True)\n",
        "response"
      ]
    },
    {
      "cell_type": "code",
      "execution_count": 3,
      "metadata": {},
      "outputs": [
        {
          "name": "stdout",
          "output_type": "stream",
          "text": [
            "Total running cost: $0.000\n",
            "{\n",
            "  \"id\": \"chatcmpl-7RqtB7F9MyXz6Qk292QtvYPHOg9zM\",\n",
            "  \"object\": \"chat.completion\",\n",
            "  \"created\": 1686872517,\n",
            "  \"model\": \"gpt-3.5-turbo-0613\",\n",
            "  \"choices\": [\n",
            "    {\n",
            "      \"index\": 0,\n",
            "      \"message\": {\n",
            "        \"role\": \"assistant\",\n",
            "        \"content\": \"As of September 2021, the GameStop stock (GME) is trading at around $200 per share. However, please note that stock prices are subject to change and it is always recommended to check the latest stock prices before making any investment decisions.\"\n",
            "      },\n",
            "      \"finish_reason\": \"stop\"\n",
            "    }\n",
            "  ],\n",
            "  \"usage\": {\n",
            "    \"prompt_tokens\": 12,\n",
            "    \"completion_tokens\": 52,\n",
            "    \"total_tokens\": 64\n",
            "  }\n",
            "}\n"
          ]
        }
      ],
      "source": [
        "# lets respond to the message above with the answer\n",
        "chat_response = ChatSequence([Message('assistant', response.choices[0].message.content), Message('user', 'The Gamestop stock please')])\n",
        "\n",
        "response = create_chat_completion(sequence1 + chat_response, functions=chat.function_pairs, send_object=True)\n",
        "print(response)\n",
        "\n",
        "# create_chat_completion(chat_response, functions=chat.function_pairs, send_object=True)\n",
        "\n",
        "# # now lets chain a few of these together using the ChatConversation we defined\n",
        "# function_pair2 = FunctionPair(shares_calculation, get_shares_calculation)\n",
        "\n",
        "# # adding functions to ChatConversation makes them globally available for all ChatSequences\n",
        "# chat.function_pairs.add_function_pairs([function_pair1, function_pair2])\n",
        "# # can also add chat.function_pairs.add_function_pairs(functions_available) off the rip\n",
        "\n",
        "# chat.sequential_complete()\n",
        "\n",
        "# chat.display_conversation()"
      ]
    },
    {
      "cell_type": "code",
      "execution_count": 6,
      "metadata": {},
      "outputs": [
        {
          "data": {
            "text/plain": [
              "0.0003486"
            ]
          },
          "execution_count": 6,
          "metadata": {},
          "output_type": "execute_result"
        }
      ],
      "source": [
        "from aitemplates.oai.ApiManager import ApiManager\n",
        "\n",
        "api_manager = ApiManager()\n",
        "api_manager.total_cost"
      ]
    }
  ],
  "metadata": {
    "kernelspec": {
      "display_name": "base",
      "language": "python",
      "name": "python3"
    },
    "language_info": {
      "codemirror_mode": {
        "name": "ipython",
        "version": 3
      },
      "file_extension": ".py",
      "mimetype": "text/x-python",
      "name": "python",
      "nbconvert_exporter": "python",
      "pygments_lexer": "ipython3",
      "version": "3.9.13"
    },
    "orig_nbformat": 4
  },
  "nbformat": 4,
  "nbformat_minor": 2
}
