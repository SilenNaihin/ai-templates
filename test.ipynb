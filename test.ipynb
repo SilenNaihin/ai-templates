{
 "cells": [
  {
   "cell_type": "code",
   "execution_count": null,
   "id": "f86b4630",
   "metadata": {},
   "outputs": [],
   "source": [
    "from aitemplates import Message, ChatSequence, ChatConversation, create_chat_completion, FunctionPair, FunctionsAvailable\n",
    "import os\n",
    "import chromadb\n",
    "from chromadb.utils import embedding_functions\n",
    "import openai\n",
    "import os\n",
    "from dotenv import load_dotenv\n",
    "\n",
    "load_dotenv()\n",
    "\n",
    "OPENAI_API_KEY = os.getenv(\"OPENAI_API_KEY\")\n",
    "\n",
    "openai.api_key = OPENAI_API_KEY\n",
    "\n",
    "if OPENAI_API_KEY is None:\n",
    "    raise Exception(\"API key not found in environment variables\")\n",
    "\n",
    "chroma_client = chromadb.Client()\n",
    "\n",
    "embedder = embedding_functions.OpenAIEmbeddingFunction(\n",
    "    api_key=OPENAI_API_KEY,\n",
    "    model_name=\"text-embedding-ada-002\",\n",
    ")\n",
    "\n",
    "collection = chroma_client.create_collection(name=\"\", embedding_function=embedder)"
   ]
  },
  {
   "cell_type": "code",
   "execution_count": null,
   "id": "c906aa7b",
   "metadata": {},
   "outputs": [],
   "source": [
    "system_prompt=\"\"\n",
    "system_prompt_msg = Message(\"system\", system_prompt)\n",
    "\n",
    "description = \"\"\n",
    "description_msg = Message(\"system\", description)\n",
    "\n",
    "user_query=\"\"\n",
    "user_query_msg = Message(\"user\", user_query)\n",
    "\n",
    "sequence1 = ChatSequence([system_prompt_msg, description_msg, user_query_msg])\n",
    "\n",
    "sequence2 = ChatSequence([user_query_msg])\n",
    "chat = ChatConversation([sequence1, sequence2])"
   ]
  },
  {
   "cell_type": "code",
   "execution_count": null,
   "id": "29cac984",
   "metadata": {},
   "outputs": [],
   "source": [
    "func_desc = {\n",
    "        \"name\": \"func_name\",\n",
    "        \"description\": \"\",\n",
    "        \"parameters\": {\n",
    "            \"type\": \"object\",\n",
    "            \"properties\": {\n",
    "                \"property1\": {\n",
    "                    \"type\": \"string\",\n",
    "                    \"description\": \"\",\n",
    "                },\n",
    "            },\n",
    "            \"required\": [\"property1\"]\n",
    "        },\n",
    "    }\n",
    "    \n",
    "def func(property1: str) -> float:\n",
    "    return 0.0\n",
    "    \n",
    "# match the description to the function\n",
    "function_pair1 = FunctionPair(func_desc, func)\n",
    "\n",
    "# add FunctionsAvailable dataclass for easy access\n",
    "functions_available = FunctionsAvailable([function_pair1])\n",
    "\n",
    "completion = create_chat_completion(sequence1, functions=functions_available)"
   ]
  },
  {
   "cell_type": "code",
   "execution_count": null,
   "id": "9d7aac2a",
   "metadata": {},
   "outputs": [],
   "source": [
    "\n",
    "collection.add(\n",
    "    documents=[completion],\n",
    "    metadatas=[{\"\": \"\"}],\n",
    "    ids=[\"\"]\n",
    ")\n",
    "completion"
   ]
  },
  {
   "cell_type": "code",
   "execution_count": null,
   "id": "4d16ff99",
   "metadata": {},
   "outputs": [],
   "source": [
    "from aitemplates import ApiManager\n",
    "\n",
    "api_manager = ApiManager()\n",
    "api_manager.total_cost"
   ]
  }
 ],
 "metadata": {},
 "nbformat": 4,
 "nbformat_minor": 5
}
